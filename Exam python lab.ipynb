{
 "cells": [
  {
   "cell_type": "markdown",
   "id": "aacd0600",
   "metadata": {},
   "source": [
    "# Python lab Exam:\n",
    "***Student: Geoffrey VARIN***\n",
    "\n",
    "*SPOC S21*"
   ]
  },
  {
   "cell_type": "markdown",
   "id": "70947569",
   "metadata": {},
   "source": [
    "# Project: Stroke Prediction Model\n",
    "***Instructor: Hanna Abi Akl***\n",
    "\n",
    "## Project Summary:\n",
    "\n",
    "According to the World Health Organisation (WHO), stroke is the 2nd leading cause of death globally,\n",
    "responsible for approximately 11% of total deaths.\n",
    "\n",
    "The dataset provided is used to predict whether a patient is likely to get a stroke based on input parameters like gender, age, various diseases and smoking status.\n",
    "\n",
    "Below is the information you have regarding the dataset attributes:\n",
    "\n",
    "1) id: unique patient identifier\n",
    "2) gender: “Male”, “Female” or “Other”\n",
    "3) age: age of the patient\n",
    "4) hypertension: 0 (if the patient doesn’t have hypertension) or 1 (if the patient has hypertension)\n",
    "5) heart_disease: 0 (if the patient doesn’t have a heart disease) or 1 (if the patient has a heart disease)\n",
    "6) ever_married: “No” or “Yes”\n",
    "7) work_type: “children”, “Govt_job”, “Never_worked”, “Private” or “Self-employed”\n",
    "8) Residence_type: “Rural” or “Urban”\n",
    "9) avg_glucose_level: average glucose level in the blood\n",
    "10) bmi: body mass index\n",
    "11) smoking_status: “formerly smoked”, “never smoked”, “smokes” or “Unknown” (in this case the information for the patient is not available)\n",
    "12) stroke: 1 (if the patient had a stroke) or 0 (if the patient didn’t have a stroke)\n",
    "\n",
    "## Project Objectives:\n",
    "\n",
    "Using the provided dataset, you are asked to train a model that predicts whether a patient has a stroke or not. The project can be submitted as a Jupyter Notebook and should include exploratory analysis of the data, feature engineering and selection, model training and evaluation.\n",
    "\n",
    "You may use additional resources as you see fit (provided you can justify how they can serve your solution).\n",
    "You can even consult similar solutions from the Internet.\n",
    "However, this comes with a big responsibility: any submission that is over-plagiarised or does not reflect personal work will not be accepted.\n",
    "\n",
    "## Project Evaluation:\n",
    "\n",
    "The project will be evaluated using the following rubric. It contains the required items for a complete submission as well as bonus elements.\n",
    "The grading system is over 5 and the final grade will be transformed to a grade over 100.\n",
    "\n",
    "● **Data analysis** (data processing, data cleaning, exploratory analysis, plots of relevant attributes) [1 point]\n",
    "\n",
    "● **Feature selection** (feature engineering, feature pruning, choice justification) [1 point]\n",
    "\n",
    "● **Model training** (motivation for selected model, comparison of different models) [1point]\n",
    "\n",
    "● **Model evaluation** (evaluation metric, results interpretation) [1 point]\n",
    "\n",
    "● **Project report** (short report explaining the approach and results) [1 point]\n",
    "\n",
    "● **BONUS: Project reproducibility** (requirements file with necessary packages, README file for running the project) [1/2 point]\n",
    "\n",
    "● **BONUS: Project hosting** (Github, Docker, AWS, Heroku or any other method) [1/2\n",
    "point]\n",
    "\n",
    "## Project Timeline:\n",
    "\n",
    "The deadline for the project is **60 days from the project start date**. Additionally, you are free to set a meeting with the instructor to discuss possible approaches, problems or other points pertaining to the project."
   ]
  },
  {
   "cell_type": "code",
   "execution_count": 1,
   "id": "9f18200f",
   "metadata": {},
   "outputs": [],
   "source": [
    "# importing common libraries\n",
    "import numpy as np\n",
    "import pandas as pd\n",
    "import matplotlib.pyplot as plt\n",
    "import scipy\n",
    "import sklearn\n",
    "import seaborn as sns"
   ]
  },
  {
   "cell_type": "code",
   "execution_count": 2,
   "id": "92891c27",
   "metadata": {},
   "outputs": [
    {
     "name": "stdout",
     "output_type": "stream",
     "text": [
      "/Users/Geoffrey\n"
     ]
    }
   ],
   "source": [
    "import os\n",
    "print(os.getcwd())"
   ]
  },
  {
   "cell_type": "code",
   "execution_count": null,
   "id": "c2ef0a2f",
   "metadata": {},
   "outputs": [],
   "source": [
    "anim = pd.read_csv('/Users/Geoffrey/Documents/Openclassroom training/Project3/Source files/fr_animaux.csv')"
   ]
  }
 ],
 "metadata": {
  "kernelspec": {
   "display_name": "Python 3 (ipykernel)",
   "language": "python",
   "name": "python3"
  },
  "language_info": {
   "codemirror_mode": {
    "name": "ipython",
    "version": 3
   },
   "file_extension": ".py",
   "mimetype": "text/x-python",
   "name": "python",
   "nbconvert_exporter": "python",
   "pygments_lexer": "ipython3",
   "version": "3.11.5"
  }
 },
 "nbformat": 4,
 "nbformat_minor": 5
}
